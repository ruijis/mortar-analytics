{
 "cells": [
  {
   "cell_type": "code",
   "execution_count": 1,
   "metadata": {},
   "outputs": [],
   "source": [
    "import pymortar\n",
    "import glob\n",
    "\n",
    "URL = \"https://beta-api.mortardata.org\"\n",
    "# connect client to Mortar frontend server\n",
    "client = pymortar.Client(URL)"
   ]
  },
  {
   "cell_type": "code",
   "execution_count": 2,
   "metadata": {},
   "outputs": [],
   "source": [
    "# query AHU, supply air temp sensor, and downstream zone\n",
    "query_AHU = \"\"\"SELECT ?ahu ?sat ?zone WHERE {\n",
    "    ?ahu a brick:AHU .\n",
    "    ?ahu brick:hasPart?/brick:hasPoint ?sat .\n",
    "    ?sat a brick:Supply_Air_Temperature_Sensor .\n",
    "    ?ahu brick:feeds+ ?zone .\n",
    "    ?zone a brick:HVAC_Zone\n",
    "}\"\"\"\n",
    "\n",
    "# all air temperature sensors\n",
    "query_temp_sensor = \"\"\"SELECT ?ats WHERE {\n",
    "    ?ats  a  brick:Air_Temperature_Sensor .\n",
    "}\"\"\""
   ]
  },
  {
   "cell_type": "code",
   "execution_count": null,
   "metadata": {},
   "outputs": [],
   "source": [
    "# get all qualifed buildind sites for a list of queries\n",
    "client.qualify([query_AHU, query_temp_sensor])"
   ]
  },
  {
   "cell_type": "code",
   "execution_count": null,
   "metadata": {},
   "outputs": [],
   "source": [
    "# execute query against all sites\n",
    "# I never successfully run this due to extreme long runtime\n",
    "client.sparql(query_AHU)"
   ]
  },
  {
   "cell_type": "code",
   "execution_count": null,
   "metadata": {},
   "outputs": [],
   "source": [
    "# execute query against a list of sites\n",
    "client.sparql(query_AHU, sites=['scc'])\n"
   ]
  }
 ],
 "metadata": {
  "kernelspec": {
   "display_name": "Python 3",
   "language": "python",
   "name": "python3"
  },
  "language_info": {
   "codemirror_mode": {
    "name": "ipython",
    "version": 3
   },
   "file_extension": ".py",
   "mimetype": "text/x-python",
   "name": "python",
   "nbconvert_exporter": "python",
   "pygments_lexer": "ipython3",
   "version": "3.8.5"
  }
 },
 "nbformat": 4,
 "nbformat_minor": 4
}
