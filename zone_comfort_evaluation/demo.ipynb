{
 "cells": [
  {
   "cell_type": "markdown",
   "id": "100da57c",
   "metadata": {},
   "source": [
    "# Creating Python3.5 Environment\n",
    "I use Anaconda for creating an enviornment of Python 3.5 with several default packages installed"
   ]
  },
  {
   "cell_type": "code",
   "execution_count": 11,
   "id": "f66db66e",
   "metadata": {},
   "outputs": [
    {
     "name": "stdout",
     "output_type": "stream",
     "text": [
      "Python 3.5.6 :: Anaconda, Inc.\n"
     ]
    }
   ],
   "source": [
    "!python --version"
   ]
  },
  {
   "cell_type": "code",
   "execution_count": 12,
   "id": "e478469a",
   "metadata": {},
   "outputs": [
    {
     "data": {
      "text/plain": [
       "'/Users/ruijisun/Documents/GitHub/mortar-analytics/zone_comfort_evaluation'"
      ]
     },
     "execution_count": 12,
     "metadata": {},
     "output_type": "execute_result"
    }
   ],
   "source": [
    "pwd"
   ]
  },
  {
   "cell_type": "markdown",
   "id": "55649cae",
   "metadata": {},
   "source": [
    "# Installing Mortar 1.0.5 using pip\n",
    "I use JupterLab in the Anaconda and install pacakges by Pip in the terminal of the JuterLab."
   ]
  },
  {
   "cell_type": "markdown",
   "id": "7b3ae317",
   "metadata": {},
   "source": [
    "Update pip to current version"
   ]
  },
  {
   "cell_type": "code",
   "execution_count": 13,
   "id": "e87ce966",
   "metadata": {},
   "outputs": [
    {
     "name": "stdout",
     "output_type": "stream",
     "text": [
      "pip 20.3.4 from /opt/anaconda3/envs/Python3-5_Pymortar1-0-5/lib/python3.5/site-packages/pip (python 3.5)\n"
     ]
    }
   ],
   "source": [
    "!pip --version"
   ]
  },
  {
   "cell_type": "markdown",
   "id": "1f01bec7",
   "metadata": {},
   "source": [
    "Installing 1.0.5 pymortar pacakge"
   ]
  },
  {
   "cell_type": "code",
   "execution_count": 14,
   "id": "930a826f",
   "metadata": {},
   "outputs": [
    {
     "name": "stdout",
     "output_type": "stream",
     "text": [
      "\u001b[33mDEPRECATION: Python 3.5 reached the end of its life on September 13th, 2020. Please upgrade your Python as Python 3.5 is no longer maintained. pip 21.0 will drop support for Python 3.5 in January 2021. pip 21.0 will remove support for this functionality.\u001b[0m\n",
      "Requirement already satisfied: pymortar==1.0.5 in /opt/anaconda3/envs/Python3-5_Pymortar1-0-5/lib/python3.5/site-packages (1.0.5)\n",
      "Requirement already satisfied: grpcio-tools<2.0,>=1.18 in /opt/anaconda3/envs/Python3-5_Pymortar1-0-5/lib/python3.5/site-packages (from pymortar==1.0.5) (1.38.1)\n",
      "Requirement already satisfied: grpcio<2.0,>=1.18 in /opt/anaconda3/envs/Python3-5_Pymortar1-0-5/lib/python3.5/site-packages (from pymortar==1.0.5) (1.38.1)\n",
      "Requirement already satisfied: pandas<0.24.0,>=0.23.4 in /opt/anaconda3/envs/Python3-5_Pymortar1-0-5/lib/python3.5/site-packages (from pymortar==1.0.5) (0.23.4)\n",
      "Requirement already satisfied: googleapis-common-protos<2.0,>=1.5 in /opt/anaconda3/envs/Python3-5_Pymortar1-0-5/lib/python3.5/site-packages (from pymortar==1.0.5) (1.52.0)\n",
      "Requirement already satisfied: protobuf>=3.6.0 in /opt/anaconda3/envs/Python3-5_Pymortar1-0-5/lib/python3.5/site-packages (from googleapis-common-protos<2.0,>=1.5->pymortar==1.0.5) (3.17.3)\n",
      "Requirement already satisfied: six>=1.5.2 in /opt/anaconda3/envs/Python3-5_Pymortar1-0-5/lib/python3.5/site-packages (from grpcio<2.0,>=1.18->pymortar==1.0.5) (1.16.0)\n",
      "Requirement already satisfied: setuptools in /opt/anaconda3/envs/Python3-5_Pymortar1-0-5/lib/python3.5/site-packages (from grpcio-tools<2.0,>=1.18->pymortar==1.0.5) (40.2.0)\n",
      "Requirement already satisfied: python-dateutil>=2.5.0 in /opt/anaconda3/envs/Python3-5_Pymortar1-0-5/lib/python3.5/site-packages (from pandas<0.24.0,>=0.23.4->pymortar==1.0.5) (2.8.1)\n",
      "Requirement already satisfied: numpy>=1.9.0 in /opt/anaconda3/envs/Python3-5_Pymortar1-0-5/lib/python3.5/site-packages (from pandas<0.24.0,>=0.23.4->pymortar==1.0.5) (1.18.5)\n",
      "Requirement already satisfied: pytz>=2011k in /opt/anaconda3/envs/Python3-5_Pymortar1-0-5/lib/python3.5/site-packages (from pandas<0.24.0,>=0.23.4->pymortar==1.0.5) (2021.1)\n"
     ]
    }
   ],
   "source": [
    "!pip install pymortar==1.0.5"
   ]
  },
  {
   "cell_type": "code",
   "execution_count": 15,
   "id": "4176c1ef",
   "metadata": {},
   "outputs": [
    {
     "name": "stdout",
     "output_type": "stream",
     "text": [
      "\u001b[33mDEPRECATION: Python 3.5 reached the end of its life on September 13th, 2020. Please upgrade your Python as Python 3.5 is no longer maintained. pip 21.0 will drop support for Python 3.5 in January 2021. pip 21.0 will remove support for this functionality.\u001b[0m\n",
      "Package                  Version\n",
      "------------------------ ---------\n",
      "appnope                  0.1.0\n",
      "bleach                   3.3.0\n",
      "certifi                  2020.6.20\n",
      "decorator                5.0.9\n",
      "defusedxml               0.7.1\n",
      "entrypoints              0.2.3\n",
      "googleapis-common-protos 1.52.0\n",
      "grpcio                   1.38.1\n",
      "grpcio-tools             1.38.1\n",
      "ipykernel                4.10.0\n",
      "ipython                  5.8.0\n",
      "ipython-genutils         0.2.0\n",
      "Jinja2                   2.11.3\n",
      "json5                    0.9.6\n",
      "jsonschema               2.6.0\n",
      "jupyter-client           5.3.3\n",
      "jupyter-core             4.5.0\n",
      "jupyterlab               1.2.6\n",
      "jupyterlab-server        1.0.0\n",
      "MarkupSafe               1.0\n",
      "mistune                  0.8.3\n",
      "nbconvert                5.5.0\n",
      "nbformat                 5.1.3\n",
      "notebook                 5.6.0\n",
      "numpy                    1.18.5\n",
      "packaging                20.9\n",
      "pandas                   0.23.4\n",
      "pandocfilters            1.4.2\n",
      "pexpect                  4.8.0\n",
      "pickleshare              0.7.5\n",
      "pip                      20.3.4\n",
      "prometheus-client        0.11.0\n",
      "prompt-toolkit           1.0.15\n",
      "protobuf                 3.17.3\n",
      "ptyprocess               0.7.0\n",
      "Pygments                 2.9.0\n",
      "pymortar                 1.0.5\n",
      "pyparsing                2.4.7\n",
      "python-dateutil          2.8.1\n",
      "pytz                     2021.1\n",
      "pyzmq                    17.1.2\n",
      "Send2Trash               1.5.0\n",
      "setuptools               40.2.0\n",
      "simplegeneric            0.8.1\n",
      "six                      1.16.0\n",
      "terminado                0.8.1\n",
      "testpath                 0.4.4\n",
      "tornado                  5.1.1\n",
      "traitlets                4.3.2\n",
      "wcwidth                  0.2.5\n",
      "webencodings             0.5.1\n",
      "wheel                    0.36.2\n"
     ]
    }
   ],
   "source": [
    "!pip list"
   ]
  },
  {
   "cell_type": "code",
   "execution_count": 8,
   "id": "f8fb7ad3",
   "metadata": {},
   "outputs": [],
   "source": [
    "import app"
   ]
  },
  {
   "cell_type": "markdown",
   "id": "069251d7",
   "metadata": {},
   "source": [
    "# import app.py and run functions in it"
   ]
  },
  {
   "cell_type": "code",
   "execution_count": 16,
   "id": "d0b28ef2",
   "metadata": {},
   "outputs": [
    {
     "name": "stderr",
     "output_type": "stream",
     "text": [
      "INFO:root:Generating a new JWT token. Your old token may have expired\n",
      "INFO:root:Got event ChannelConnectivity.IDLE\n",
      "INFO:root:Got event ChannelConnectivity.CONNECTING\n",
      "INFO:root:Got event ChannelConnectivity.READY\n"
     ]
    },
    {
     "ename": "_InactiveRpcError",
     "evalue": "<_InactiveRpcError of RPC that terminated with:\n\tstatus = StatusCode.UNAVAILABLE\n\tdetails = \"Received http2 header with status: 504\"\n\tdebug_error_string = \"{\"created\":\"@1625676081.538943000\",\"description\":\"Received http2 :status header with non-200 OK status\",\"file\":\"src/core/ext/filters/http/client/http_client_filter.cc\",\"file_line\":133,\"grpc_message\":\"Received http2 header with status: 504\",\"grpc_status\":14,\"value\":\"504\"}\"\n>",
     "output_type": "error",
     "traceback": [
      "\u001b[0;31m---------------------------------------------------------------------------\u001b[0m",
      "\u001b[0;31m_InactiveRpcError\u001b[0m                         Traceback (most recent call last)",
      "\u001b[0;32m<ipython-input-16-bd763652e3a7>\u001b[0m in \u001b[0;36m<module>\u001b[0;34m()\u001b[0m\n\u001b[0;32m----> 1\u001b[0;31m \u001b[0mapp\u001b[0m\u001b[0;34m.\u001b[0m\u001b[0mquery_and_qualify\u001b[0m\u001b[0;34m(\u001b[0m\u001b[0;34m)\u001b[0m\u001b[0;34m\u001b[0m\u001b[0m\n\u001b[0m",
      "\u001b[0;32m/Users/ruijisun/Documents/GitHub/mortar-analytics/zone_comfort_evaluation/app.py\u001b[0m in \u001b[0;36mquery_and_qualify\u001b[0;34m()\u001b[0m\n\u001b[1;32m     22\u001b[0m     \"\"\"\n\u001b[1;32m     23\u001b[0m     \u001b[0;31m# connect to client\u001b[0m\u001b[0;34m\u001b[0m\u001b[0;34m\u001b[0m\u001b[0m\n\u001b[0;32m---> 24\u001b[0;31m     \u001b[0mclient\u001b[0m \u001b[0;34m=\u001b[0m \u001b[0mpymortar\u001b[0m\u001b[0;34m.\u001b[0m\u001b[0mClient\u001b[0m\u001b[0;34m(\u001b[0m\u001b[0;34m)\u001b[0m\u001b[0;34m\u001b[0m\u001b[0m\n\u001b[0m\u001b[1;32m     25\u001b[0m \u001b[0;34m\u001b[0m\u001b[0m\n\u001b[1;32m     26\u001b[0m     \u001b[0;31m# container for query information\u001b[0m\u001b[0;34m\u001b[0m\u001b[0;34m\u001b[0m\u001b[0m\n",
      "\u001b[0;32m/opt/anaconda3/envs/Python3-5_Pymortar1-0-5/lib/python3.5/site-packages/pymortar/__init__.py\u001b[0m in \u001b[0;36m__init__\u001b[0;34m(self, cfg)\u001b[0m\n\u001b[1;32m     77\u001b[0m         \u001b[0;31m# FIX: comment this out to allow token to expire and see connection state\u001b[0m\u001b[0;34m\u001b[0m\u001b[0;34m\u001b[0m\u001b[0m\n\u001b[1;32m     78\u001b[0m         \u001b[0;32mif\u001b[0m \u001b[0mself\u001b[0m\u001b[0;34m.\u001b[0m\u001b[0m_token\u001b[0m \u001b[0;32mis\u001b[0m \u001b[0;32mNone\u001b[0m\u001b[0;34m:\u001b[0m\u001b[0;34m\u001b[0m\u001b[0m\n\u001b[0;32m---> 79\u001b[0;31m             \u001b[0mself\u001b[0m\u001b[0;34m.\u001b[0m\u001b[0m_refresh\u001b[0m\u001b[0;34m(\u001b[0m\u001b[0;34m)\u001b[0m\u001b[0;34m\u001b[0m\u001b[0m\n\u001b[0m\u001b[1;32m     80\u001b[0m \u001b[0;34m\u001b[0m\u001b[0m\n\u001b[1;32m     81\u001b[0m     \u001b[0;32mdef\u001b[0m \u001b[0m_connect\u001b[0m\u001b[0;34m(\u001b[0m\u001b[0mself\u001b[0m\u001b[0;34m)\u001b[0m\u001b[0;34m:\u001b[0m\u001b[0;34m\u001b[0m\u001b[0m\n",
      "\u001b[0;32m/opt/anaconda3/envs/Python3-5_Pymortar1-0-5/lib/python3.5/site-packages/pymortar/__init__.py\u001b[0m in \u001b[0;36m_refresh\u001b[0;34m(self)\u001b[0m\n\u001b[1;32m     97\u001b[0m     \u001b[0;32mdef\u001b[0m \u001b[0m_refresh\u001b[0m\u001b[0;34m(\u001b[0m\u001b[0mself\u001b[0m\u001b[0;34m)\u001b[0m\u001b[0;34m:\u001b[0m\u001b[0;34m\u001b[0m\u001b[0m\n\u001b[1;32m     98\u001b[0m         \u001b[0mlogging\u001b[0m\u001b[0;34m.\u001b[0m\u001b[0minfo\u001b[0m\u001b[0;34m(\u001b[0m\u001b[0;34m\"Generating a new JWT token. Your old token may have expired\"\u001b[0m\u001b[0;34m)\u001b[0m\u001b[0;34m\u001b[0m\u001b[0m\n\u001b[0;32m---> 99\u001b[0;31m         \u001b[0mresponse\u001b[0m \u001b[0;34m=\u001b[0m \u001b[0mself\u001b[0m\u001b[0;34m.\u001b[0m\u001b[0m_client\u001b[0m\u001b[0;34m.\u001b[0m\u001b[0mGetAPIKey\u001b[0m\u001b[0;34m(\u001b[0m\u001b[0mmortar_pb2\u001b[0m\u001b[0;34m.\u001b[0m\u001b[0mGetAPIKeyRequest\u001b[0m\u001b[0;34m(\u001b[0m\u001b[0musername\u001b[0m\u001b[0;34m=\u001b[0m\u001b[0mself\u001b[0m\u001b[0;34m.\u001b[0m\u001b[0m_cfg\u001b[0m\u001b[0;34m[\u001b[0m\u001b[0;34m\"username\"\u001b[0m\u001b[0;34m]\u001b[0m\u001b[0;34m,\u001b[0m\u001b[0mpassword\u001b[0m\u001b[0;34m=\u001b[0m\u001b[0mself\u001b[0m\u001b[0;34m.\u001b[0m\u001b[0m_cfg\u001b[0m\u001b[0;34m[\u001b[0m\u001b[0;34m\"password\"\u001b[0m\u001b[0;34m]\u001b[0m\u001b[0;34m)\u001b[0m\u001b[0;34m)\u001b[0m\u001b[0;34m\u001b[0m\u001b[0m\n\u001b[0m\u001b[1;32m    100\u001b[0m         \u001b[0;31m#print(response)\u001b[0m\u001b[0;34m\u001b[0m\u001b[0;34m\u001b[0m\u001b[0m\n\u001b[1;32m    101\u001b[0m         \u001b[0mself\u001b[0m\u001b[0;34m.\u001b[0m\u001b[0m_token\u001b[0m \u001b[0;34m=\u001b[0m \u001b[0mresponse\u001b[0m\u001b[0;34m.\u001b[0m\u001b[0mtoken\u001b[0m\u001b[0;34m\u001b[0m\u001b[0m\n",
      "\u001b[0;32m/opt/anaconda3/envs/Python3-5_Pymortar1-0-5/lib/python3.5/site-packages/grpc/_channel.py\u001b[0m in \u001b[0;36m__call__\u001b[0;34m(self, request, timeout, metadata, credentials, wait_for_ready, compression)\u001b[0m\n\u001b[1;32m    944\u001b[0m         state, call, = self._blocking(request, timeout, metadata, credentials,\n\u001b[1;32m    945\u001b[0m                                       wait_for_ready, compression)\n\u001b[0;32m--> 946\u001b[0;31m         \u001b[0;32mreturn\u001b[0m \u001b[0m_end_unary_response_blocking\u001b[0m\u001b[0;34m(\u001b[0m\u001b[0mstate\u001b[0m\u001b[0;34m,\u001b[0m \u001b[0mcall\u001b[0m\u001b[0;34m,\u001b[0m \u001b[0;32mFalse\u001b[0m\u001b[0;34m,\u001b[0m \u001b[0;32mNone\u001b[0m\u001b[0;34m)\u001b[0m\u001b[0;34m\u001b[0m\u001b[0m\n\u001b[0m\u001b[1;32m    947\u001b[0m \u001b[0;34m\u001b[0m\u001b[0m\n\u001b[1;32m    948\u001b[0m     def with_call(self,\n",
      "\u001b[0;32m/opt/anaconda3/envs/Python3-5_Pymortar1-0-5/lib/python3.5/site-packages/grpc/_channel.py\u001b[0m in \u001b[0;36m_end_unary_response_blocking\u001b[0;34m(state, call, with_call, deadline)\u001b[0m\n\u001b[1;32m    847\u001b[0m             \u001b[0;32mreturn\u001b[0m \u001b[0mstate\u001b[0m\u001b[0;34m.\u001b[0m\u001b[0mresponse\u001b[0m\u001b[0;34m\u001b[0m\u001b[0m\n\u001b[1;32m    848\u001b[0m     \u001b[0;32melse\u001b[0m\u001b[0;34m:\u001b[0m\u001b[0;34m\u001b[0m\u001b[0m\n\u001b[0;32m--> 849\u001b[0;31m         \u001b[0;32mraise\u001b[0m \u001b[0m_InactiveRpcError\u001b[0m\u001b[0;34m(\u001b[0m\u001b[0mstate\u001b[0m\u001b[0;34m)\u001b[0m\u001b[0;34m\u001b[0m\u001b[0m\n\u001b[0m\u001b[1;32m    850\u001b[0m \u001b[0;34m\u001b[0m\u001b[0m\n\u001b[1;32m    851\u001b[0m \u001b[0;34m\u001b[0m\u001b[0m\n",
      "\u001b[0;31m_InactiveRpcError\u001b[0m: <_InactiveRpcError of RPC that terminated with:\n\tstatus = StatusCode.UNAVAILABLE\n\tdetails = \"Received http2 header with status: 504\"\n\tdebug_error_string = \"{\"created\":\"@1625676081.538943000\",\"description\":\"Received http2 :status header with non-200 OK status\",\"file\":\"src/core/ext/filters/http/client/http_client_filter.cc\",\"file_line\":133,\"grpc_message\":\"Received http2 header with status: 504\",\"grpc_status\":14,\"value\":\"504\"}\"\n>"
     ]
    }
   ],
   "source": [
    "app.query_and_qualify()"
   ]
  },
  {
   "cell_type": "markdown",
   "id": "0753c388",
   "metadata": {},
   "source": [
    "# Try pymortar default function"
   ]
  },
  {
   "cell_type": "code",
   "execution_count": 19,
   "id": "8a23887a",
   "metadata": {},
   "outputs": [],
   "source": [
    "import pymortar\n",
    "import os\n",
    "import pandas as pd"
   ]
  },
  {
   "cell_type": "code",
   "execution_count": 21,
   "id": "f627f9a0",
   "metadata": {},
   "outputs": [
    {
     "ename": "_InactiveRpcError",
     "evalue": "<_InactiveRpcError of RPC that terminated with:\n\tstatus = StatusCode.UNAVAILABLE\n\tdetails = \"Received http2 header with status: 504\"\n\tdebug_error_string = \"{\"created\":\"@1625676499.562551000\",\"description\":\"Received http2 :status header with non-200 OK status\",\"file\":\"src/core/ext/filters/http/client/http_client_filter.cc\",\"file_line\":133,\"grpc_message\":\"Received http2 header with status: 504\",\"grpc_status\":14,\"value\":\"504\"}\"\n>",
     "output_type": "error",
     "traceback": [
      "\u001b[0;31m---------------------------------------------------------------------------\u001b[0m",
      "\u001b[0;31m_InactiveRpcError\u001b[0m                         Traceback (most recent call last)",
      "\u001b[0;32m<ipython-input-21-03789726a166>\u001b[0m in \u001b[0;36m<module>\u001b[0;34m()\u001b[0m\n\u001b[1;32m      5\u001b[0m client = pymortar.Client({\n\u001b[1;32m      6\u001b[0m     \u001b[0;34m'username'\u001b[0m\u001b[0;34m:\u001b[0m \u001b[0;34m\"ruijislife\"\u001b[0m\u001b[0;34m,\u001b[0m  \u001b[0;31m# <------------- CHANGE THIS\u001b[0m\u001b[0;34m\u001b[0m\u001b[0m\n\u001b[0;32m----> 7\u001b[0;31m     \u001b[0;34m'password'\u001b[0m\u001b[0;34m:\u001b[0m \u001b[0;34m\"Mortardata!9957\"\u001b[0m\u001b[0;34m,\u001b[0m  \u001b[0;31m# <------------- CHANGE THIS\u001b[0m\u001b[0;34m\u001b[0m\u001b[0m\n\u001b[0m\u001b[1;32m      8\u001b[0m })\n\u001b[1;32m      9\u001b[0m \u001b[0mprint\u001b[0m\u001b[0;34m(\u001b[0m\u001b[0;34m\"Success! Got client\"\u001b[0m\u001b[0;34m)\u001b[0m\u001b[0;34m\u001b[0m\u001b[0m\n",
      "\u001b[0;32m/opt/anaconda3/envs/Python3-5_Pymortar1-0-5/lib/python3.5/site-packages/pymortar/__init__.py\u001b[0m in \u001b[0;36m__init__\u001b[0;34m(self, cfg)\u001b[0m\n\u001b[1;32m     77\u001b[0m         \u001b[0;31m# FIX: comment this out to allow token to expire and see connection state\u001b[0m\u001b[0;34m\u001b[0m\u001b[0;34m\u001b[0m\u001b[0m\n\u001b[1;32m     78\u001b[0m         \u001b[0;32mif\u001b[0m \u001b[0mself\u001b[0m\u001b[0;34m.\u001b[0m\u001b[0m_token\u001b[0m \u001b[0;32mis\u001b[0m \u001b[0;32mNone\u001b[0m\u001b[0;34m:\u001b[0m\u001b[0;34m\u001b[0m\u001b[0m\n\u001b[0;32m---> 79\u001b[0;31m             \u001b[0mself\u001b[0m\u001b[0;34m.\u001b[0m\u001b[0m_refresh\u001b[0m\u001b[0;34m(\u001b[0m\u001b[0;34m)\u001b[0m\u001b[0;34m\u001b[0m\u001b[0m\n\u001b[0m\u001b[1;32m     80\u001b[0m \u001b[0;34m\u001b[0m\u001b[0m\n\u001b[1;32m     81\u001b[0m     \u001b[0;32mdef\u001b[0m \u001b[0m_connect\u001b[0m\u001b[0;34m(\u001b[0m\u001b[0mself\u001b[0m\u001b[0;34m)\u001b[0m\u001b[0;34m:\u001b[0m\u001b[0;34m\u001b[0m\u001b[0m\n",
      "\u001b[0;32m/opt/anaconda3/envs/Python3-5_Pymortar1-0-5/lib/python3.5/site-packages/pymortar/__init__.py\u001b[0m in \u001b[0;36m_refresh\u001b[0;34m(self)\u001b[0m\n\u001b[1;32m     97\u001b[0m     \u001b[0;32mdef\u001b[0m \u001b[0m_refresh\u001b[0m\u001b[0;34m(\u001b[0m\u001b[0mself\u001b[0m\u001b[0;34m)\u001b[0m\u001b[0;34m:\u001b[0m\u001b[0;34m\u001b[0m\u001b[0m\n\u001b[1;32m     98\u001b[0m         \u001b[0mlogging\u001b[0m\u001b[0;34m.\u001b[0m\u001b[0minfo\u001b[0m\u001b[0;34m(\u001b[0m\u001b[0;34m\"Generating a new JWT token. Your old token may have expired\"\u001b[0m\u001b[0;34m)\u001b[0m\u001b[0;34m\u001b[0m\u001b[0m\n\u001b[0;32m---> 99\u001b[0;31m         \u001b[0mresponse\u001b[0m \u001b[0;34m=\u001b[0m \u001b[0mself\u001b[0m\u001b[0;34m.\u001b[0m\u001b[0m_client\u001b[0m\u001b[0;34m.\u001b[0m\u001b[0mGetAPIKey\u001b[0m\u001b[0;34m(\u001b[0m\u001b[0mmortar_pb2\u001b[0m\u001b[0;34m.\u001b[0m\u001b[0mGetAPIKeyRequest\u001b[0m\u001b[0;34m(\u001b[0m\u001b[0musername\u001b[0m\u001b[0;34m=\u001b[0m\u001b[0mself\u001b[0m\u001b[0;34m.\u001b[0m\u001b[0m_cfg\u001b[0m\u001b[0;34m[\u001b[0m\u001b[0;34m\"username\"\u001b[0m\u001b[0;34m]\u001b[0m\u001b[0;34m,\u001b[0m\u001b[0mpassword\u001b[0m\u001b[0;34m=\u001b[0m\u001b[0mself\u001b[0m\u001b[0;34m.\u001b[0m\u001b[0m_cfg\u001b[0m\u001b[0;34m[\u001b[0m\u001b[0;34m\"password\"\u001b[0m\u001b[0;34m]\u001b[0m\u001b[0;34m)\u001b[0m\u001b[0;34m)\u001b[0m\u001b[0;34m\u001b[0m\u001b[0m\n\u001b[0m\u001b[1;32m    100\u001b[0m         \u001b[0;31m#print(response)\u001b[0m\u001b[0;34m\u001b[0m\u001b[0;34m\u001b[0m\u001b[0m\n\u001b[1;32m    101\u001b[0m         \u001b[0mself\u001b[0m\u001b[0;34m.\u001b[0m\u001b[0m_token\u001b[0m \u001b[0;34m=\u001b[0m \u001b[0mresponse\u001b[0m\u001b[0;34m.\u001b[0m\u001b[0mtoken\u001b[0m\u001b[0;34m\u001b[0m\u001b[0m\n",
      "\u001b[0;32m/opt/anaconda3/envs/Python3-5_Pymortar1-0-5/lib/python3.5/site-packages/grpc/_channel.py\u001b[0m in \u001b[0;36m__call__\u001b[0;34m(self, request, timeout, metadata, credentials, wait_for_ready, compression)\u001b[0m\n\u001b[1;32m    944\u001b[0m         state, call, = self._blocking(request, timeout, metadata, credentials,\n\u001b[1;32m    945\u001b[0m                                       wait_for_ready, compression)\n\u001b[0;32m--> 946\u001b[0;31m         \u001b[0;32mreturn\u001b[0m \u001b[0m_end_unary_response_blocking\u001b[0m\u001b[0;34m(\u001b[0m\u001b[0mstate\u001b[0m\u001b[0;34m,\u001b[0m \u001b[0mcall\u001b[0m\u001b[0;34m,\u001b[0m \u001b[0;32mFalse\u001b[0m\u001b[0;34m,\u001b[0m \u001b[0;32mNone\u001b[0m\u001b[0;34m)\u001b[0m\u001b[0;34m\u001b[0m\u001b[0m\n\u001b[0m\u001b[1;32m    947\u001b[0m \u001b[0;34m\u001b[0m\u001b[0m\n\u001b[1;32m    948\u001b[0m     def with_call(self,\n",
      "\u001b[0;32m/opt/anaconda3/envs/Python3-5_Pymortar1-0-5/lib/python3.5/site-packages/grpc/_channel.py\u001b[0m in \u001b[0;36m_end_unary_response_blocking\u001b[0;34m(state, call, with_call, deadline)\u001b[0m\n\u001b[1;32m    847\u001b[0m             \u001b[0;32mreturn\u001b[0m \u001b[0mstate\u001b[0m\u001b[0;34m.\u001b[0m\u001b[0mresponse\u001b[0m\u001b[0;34m\u001b[0m\u001b[0m\n\u001b[1;32m    848\u001b[0m     \u001b[0;32melse\u001b[0m\u001b[0;34m:\u001b[0m\u001b[0;34m\u001b[0m\u001b[0m\n\u001b[0;32m--> 849\u001b[0;31m         \u001b[0;32mraise\u001b[0m \u001b[0m_InactiveRpcError\u001b[0m\u001b[0;34m(\u001b[0m\u001b[0mstate\u001b[0m\u001b[0;34m)\u001b[0m\u001b[0;34m\u001b[0m\u001b[0m\n\u001b[0m\u001b[1;32m    850\u001b[0m \u001b[0;34m\u001b[0m\u001b[0m\n\u001b[1;32m    851\u001b[0m \u001b[0;34m\u001b[0m\u001b[0m\n",
      "\u001b[0;31m_InactiveRpcError\u001b[0m: <_InactiveRpcError of RPC that terminated with:\n\tstatus = StatusCode.UNAVAILABLE\n\tdetails = \"Received http2 header with status: 504\"\n\tdebug_error_string = \"{\"created\":\"@1625676499.562551000\",\"description\":\"Received http2 :status header with non-200 OK status\",\"file\":\"src/core/ext/filters/http/client/http_client_filter.cc\",\"file_line\":133,\"grpc_message\":\"Received http2 header with status: 504\",\"grpc_status\":14,\"value\":\"504\"}\"\n>"
     ]
    }
   ],
   "source": [
    "import logging\n",
    "logging.getLogger().setLevel(\"CRITICAL\")\n",
    "logging.getLogger('matplotlib').setLevel(\"CRITICAL\")\n",
    "\n",
    "client = pymortar.Client({\n",
    "    'username': \"ruijislife\",  # <------------- CHANGE THIS\n",
    "    'password': \"Mortardata!9957\",  # <------------- CHANGE THIS\n",
    "})\n",
    "print(\"Success! Got client\")"
   ]
  },
  {
   "cell_type": "code",
   "execution_count": null,
   "id": "5ec70dcd",
   "metadata": {},
   "outputs": [],
   "source": []
  }
 ],
 "metadata": {
  "kernelspec": {
   "display_name": "Python 3",
   "language": "python",
   "name": "python3"
  },
  "language_info": {
   "codemirror_mode": {
    "name": "ipython",
    "version": 3
   },
   "file_extension": ".py",
   "mimetype": "text/x-python",
   "name": "python",
   "nbconvert_exporter": "python",
   "pygments_lexer": "ipython3",
   "version": "3.5.6"
  }
 },
 "nbformat": 4,
 "nbformat_minor": 5
}
