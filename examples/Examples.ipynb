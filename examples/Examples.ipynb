{
 "cells": [
  {
   "cell_type": "markdown",
   "metadata": {},
   "source": [
    "# Example Datasets\n",
    "\n",
    "This is a notebook full of simple examples of common datasets one may want to download from Mortar.\n",
    "\n",
    "- [Meter Data](#meter)\n",
    "- [Temperature Data](#Temperature-Data)\n",
    "    - [from Thermostats](#Thermostat-Temperature-Data)\n",
    "    - [from VAVs](#VAV-Temperature-Data)\n",
    "\n",
    "To use these examples, create a free Mortar account at [https://mortardata.org/](https://mortardata.org/) and insert your credentials below. You may also want to check out the [interactive tutorial](https://tutorial.mortardata.org/) to get a feel for the Mortar API."
   ]
  },
  {
   "cell_type": "code",
   "execution_count": 1,
   "metadata": {},
   "outputs": [
    {
     "ename": "_InactiveRpcError",
     "evalue": "<_InactiveRpcError of RPC that terminated with:\n\tstatus = StatusCode.UNAVAILABLE\n\tdetails = \"Received http2 header with status: 504\"\n\tdebug_error_string = \"{\"created\":\"@1626389624.275019000\",\"description\":\"Received http2 :status header with non-200 OK status\",\"file\":\"src/core/ext/filters/http/client/http_client_filter.cc\",\"file_line\":133,\"grpc_message\":\"Received http2 header with status: 504\",\"grpc_status\":14,\"value\":\"504\"}\"\n>",
     "output_type": "error",
     "traceback": [
      "\u001b[0;31m---------------------------------------------------------------------------\u001b[0m",
      "\u001b[0;31m_InactiveRpcError\u001b[0m                         Traceback (most recent call last)",
      "\u001b[0;32m<ipython-input-1-750b5185ab60>\u001b[0m in \u001b[0;36m<module>\u001b[0;34m()\u001b[0m\n\u001b[1;32m      9\u001b[0m client = pymortar.Client({\n\u001b[1;32m     10\u001b[0m     \u001b[0;34m'username'\u001b[0m\u001b[0;34m:\u001b[0m \u001b[0;34m\"ruijislife\"\u001b[0m\u001b[0;34m,\u001b[0m  \u001b[0;31m# <------------- CHANGE THIS\u001b[0m\u001b[0;34m\u001b[0m\u001b[0m\n\u001b[0;32m---> 11\u001b[0;31m     \u001b[0;34m'password'\u001b[0m\u001b[0;34m:\u001b[0m \u001b[0;34m\"Mortardataset!9957\"\u001b[0m\u001b[0;34m,\u001b[0m  \u001b[0;31m# <------------- CHANGE THIS\u001b[0m\u001b[0;34m\u001b[0m\u001b[0m\n\u001b[0m\u001b[1;32m     12\u001b[0m })\n\u001b[1;32m     13\u001b[0m \u001b[0mprint\u001b[0m\u001b[0;34m(\u001b[0m\u001b[0;34m\"Success! Got client\"\u001b[0m\u001b[0;34m)\u001b[0m\u001b[0;34m\u001b[0m\u001b[0m\n",
      "\u001b[0;32m/opt/anaconda3/envs/Python3-5_Pymortar1-0-5/lib/python3.5/site-packages/pymortar/__init__.py\u001b[0m in \u001b[0;36m__init__\u001b[0;34m(self, cfg)\u001b[0m\n\u001b[1;32m     77\u001b[0m         \u001b[0;31m# FIX: comment this out to allow token to expire and see connection state\u001b[0m\u001b[0;34m\u001b[0m\u001b[0;34m\u001b[0m\u001b[0m\n\u001b[1;32m     78\u001b[0m         \u001b[0;32mif\u001b[0m \u001b[0mself\u001b[0m\u001b[0;34m.\u001b[0m\u001b[0m_token\u001b[0m \u001b[0;32mis\u001b[0m \u001b[0;32mNone\u001b[0m\u001b[0;34m:\u001b[0m\u001b[0;34m\u001b[0m\u001b[0m\n\u001b[0;32m---> 79\u001b[0;31m             \u001b[0mself\u001b[0m\u001b[0;34m.\u001b[0m\u001b[0m_refresh\u001b[0m\u001b[0;34m(\u001b[0m\u001b[0;34m)\u001b[0m\u001b[0;34m\u001b[0m\u001b[0m\n\u001b[0m\u001b[1;32m     80\u001b[0m \u001b[0;34m\u001b[0m\u001b[0m\n\u001b[1;32m     81\u001b[0m     \u001b[0;32mdef\u001b[0m \u001b[0m_connect\u001b[0m\u001b[0;34m(\u001b[0m\u001b[0mself\u001b[0m\u001b[0;34m)\u001b[0m\u001b[0;34m:\u001b[0m\u001b[0;34m\u001b[0m\u001b[0m\n",
      "\u001b[0;32m/opt/anaconda3/envs/Python3-5_Pymortar1-0-5/lib/python3.5/site-packages/pymortar/__init__.py\u001b[0m in \u001b[0;36m_refresh\u001b[0;34m(self)\u001b[0m\n\u001b[1;32m     97\u001b[0m     \u001b[0;32mdef\u001b[0m \u001b[0m_refresh\u001b[0m\u001b[0;34m(\u001b[0m\u001b[0mself\u001b[0m\u001b[0;34m)\u001b[0m\u001b[0;34m:\u001b[0m\u001b[0;34m\u001b[0m\u001b[0m\n\u001b[1;32m     98\u001b[0m         \u001b[0mlogging\u001b[0m\u001b[0;34m.\u001b[0m\u001b[0minfo\u001b[0m\u001b[0;34m(\u001b[0m\u001b[0;34m\"Generating a new JWT token. Your old token may have expired\"\u001b[0m\u001b[0;34m)\u001b[0m\u001b[0;34m\u001b[0m\u001b[0m\n\u001b[0;32m---> 99\u001b[0;31m         \u001b[0mresponse\u001b[0m \u001b[0;34m=\u001b[0m \u001b[0mself\u001b[0m\u001b[0;34m.\u001b[0m\u001b[0m_client\u001b[0m\u001b[0;34m.\u001b[0m\u001b[0mGetAPIKey\u001b[0m\u001b[0;34m(\u001b[0m\u001b[0mmortar_pb2\u001b[0m\u001b[0;34m.\u001b[0m\u001b[0mGetAPIKeyRequest\u001b[0m\u001b[0;34m(\u001b[0m\u001b[0musername\u001b[0m\u001b[0;34m=\u001b[0m\u001b[0mself\u001b[0m\u001b[0;34m.\u001b[0m\u001b[0m_cfg\u001b[0m\u001b[0;34m[\u001b[0m\u001b[0;34m\"username\"\u001b[0m\u001b[0;34m]\u001b[0m\u001b[0;34m,\u001b[0m\u001b[0mpassword\u001b[0m\u001b[0;34m=\u001b[0m\u001b[0mself\u001b[0m\u001b[0;34m.\u001b[0m\u001b[0m_cfg\u001b[0m\u001b[0;34m[\u001b[0m\u001b[0;34m\"password\"\u001b[0m\u001b[0;34m]\u001b[0m\u001b[0;34m)\u001b[0m\u001b[0;34m)\u001b[0m\u001b[0;34m\u001b[0m\u001b[0m\n\u001b[0m\u001b[1;32m    100\u001b[0m         \u001b[0;31m#print(response)\u001b[0m\u001b[0;34m\u001b[0m\u001b[0;34m\u001b[0m\u001b[0m\n\u001b[1;32m    101\u001b[0m         \u001b[0mself\u001b[0m\u001b[0;34m.\u001b[0m\u001b[0m_token\u001b[0m \u001b[0;34m=\u001b[0m \u001b[0mresponse\u001b[0m\u001b[0;34m.\u001b[0m\u001b[0mtoken\u001b[0m\u001b[0;34m\u001b[0m\u001b[0m\n",
      "\u001b[0;32m/opt/anaconda3/envs/Python3-5_Pymortar1-0-5/lib/python3.5/site-packages/grpc/_channel.py\u001b[0m in \u001b[0;36m__call__\u001b[0;34m(self, request, timeout, metadata, credentials, wait_for_ready, compression)\u001b[0m\n\u001b[1;32m    944\u001b[0m         state, call, = self._blocking(request, timeout, metadata, credentials,\n\u001b[1;32m    945\u001b[0m                                       wait_for_ready, compression)\n\u001b[0;32m--> 946\u001b[0;31m         \u001b[0;32mreturn\u001b[0m \u001b[0m_end_unary_response_blocking\u001b[0m\u001b[0;34m(\u001b[0m\u001b[0mstate\u001b[0m\u001b[0;34m,\u001b[0m \u001b[0mcall\u001b[0m\u001b[0;34m,\u001b[0m \u001b[0;32mFalse\u001b[0m\u001b[0;34m,\u001b[0m \u001b[0;32mNone\u001b[0m\u001b[0;34m)\u001b[0m\u001b[0;34m\u001b[0m\u001b[0m\n\u001b[0m\u001b[1;32m    947\u001b[0m \u001b[0;34m\u001b[0m\u001b[0m\n\u001b[1;32m    948\u001b[0m     def with_call(self,\n",
      "\u001b[0;32m/opt/anaconda3/envs/Python3-5_Pymortar1-0-5/lib/python3.5/site-packages/grpc/_channel.py\u001b[0m in \u001b[0;36m_end_unary_response_blocking\u001b[0;34m(state, call, with_call, deadline)\u001b[0m\n\u001b[1;32m    847\u001b[0m             \u001b[0;32mreturn\u001b[0m \u001b[0mstate\u001b[0m\u001b[0;34m.\u001b[0m\u001b[0mresponse\u001b[0m\u001b[0;34m\u001b[0m\u001b[0m\n\u001b[1;32m    848\u001b[0m     \u001b[0;32melse\u001b[0m\u001b[0;34m:\u001b[0m\u001b[0;34m\u001b[0m\u001b[0m\n\u001b[0;32m--> 849\u001b[0;31m         \u001b[0;32mraise\u001b[0m \u001b[0m_InactiveRpcError\u001b[0m\u001b[0;34m(\u001b[0m\u001b[0mstate\u001b[0m\u001b[0;34m)\u001b[0m\u001b[0;34m\u001b[0m\u001b[0m\n\u001b[0m\u001b[1;32m    850\u001b[0m \u001b[0;34m\u001b[0m\u001b[0m\n\u001b[1;32m    851\u001b[0m \u001b[0;34m\u001b[0m\u001b[0m\n",
      "\u001b[0;31m_InactiveRpcError\u001b[0m: <_InactiveRpcError of RPC that terminated with:\n\tstatus = StatusCode.UNAVAILABLE\n\tdetails = \"Received http2 header with status: 504\"\n\tdebug_error_string = \"{\"created\":\"@1626389624.275019000\",\"description\":\"Received http2 :status header with non-200 OK status\",\"file\":\"src/core/ext/filters/http/client/http_client_filter.cc\",\"file_line\":133,\"grpc_message\":\"Received http2 header with status: 504\",\"grpc_status\":14,\"value\":\"504\"}\"\n>"
     ]
    }
   ],
   "source": [
    "import pymortar\n",
    "import pandas as pd\n",
    "\n",
    "# removes extraneous output\n",
    "import logging\n",
    "logging.getLogger().setLevel(\"CRITICAL\")\n",
    "logging.getLogger('matplotlib').setLevel(\"CRITICAL\")\n",
    "\n",
    "client = pymortar.Client({\n",
    "    'username': \"ruijislife\",  # <------------- CHANGE THIS\n",
    "    'password': \"Mortardataset!9957\",  # <------------- CHANGE THIS\n",
    "})\n",
    "print(\"Success! Got client\")"
   ]
  },
  {
   "cell_type": "markdown",
   "metadata": {},
   "source": [
    "## Meter Data\n",
    "\n",
    "This query fetches the building-level electric meters for all available sites in the Mortar testbed, downsampled to a 15-min interval. The query `meter_query` does not pull in any additional context, and the View and DataFrame definitions are minimal."
   ]
  },
  {
   "cell_type": "code",
   "execution_count": null,
   "metadata": {},
   "outputs": [],
   "source": [
    "meter_query = \"\"\"SELECT ?meter WHERE {\n",
    "    ?meter rdf:type/rdfs:subClassOf* brick:Building_Electric_Meter\n",
    "};\"\"\"\n",
    "\n",
    "meter_view = pymortar.View(\n",
    "    name=\"meters\",\n",
    "    definition=meter_query,\n",
    ")\n",
    "\n",
    "meter_data = pymortar.DataFrame(\n",
    "    name=\"meters\",\n",
    "    aggregation=pymortar.MEAN,\n",
    "    window=\"15m\",\n",
    "    timeseries=[\n",
    "        pymortar.Timeseries(\n",
    "            view=\"meters\",\n",
    "            dataVars=[\"?meter\"],\n",
    "        )\n",
    "    ]\n",
    ")\n",
    "\n",
    "time_range = pymortar.TimeParams(\n",
    "    start=\"2018-01-01T00:00:00Z\",\n",
    "    end=\"2019-01-01T00:00:00Z\",\n",
    ")"
   ]
  },
  {
   "cell_type": "markdown",
   "metadata": {},
   "source": [
    "This code accesses the Mortar API to identify the sites that have meters, and then downloads a year of data for those sites"
   ]
  },
  {
   "cell_type": "code",
   "execution_count": null,
   "metadata": {},
   "outputs": [],
   "source": [
    "# find sites that have meters\n",
    "qualified_sites = client.qualify([meter_query])\n",
    "print(f'Downloading data for {len(qualified_sites.sites)} sites')\n",
    "\n",
    "# define the request\n",
    "request = pymortar.FetchRequest(\n",
    "    sites = qualified_sites.sites,\n",
    "    views = [meter_view],\n",
    "    dataFrames = [meter_data],\n",
    "    time = time_range,\n",
    ")\n",
    "\n",
    "# download the data\n",
    "meter_resp = client.fetch(request)\n",
    "print(f'Downloaded data: {meter_resp}')"
   ]
  },
  {
   "cell_type": "markdown",
   "metadata": {},
   "source": [
    "### Downloaded Metadata"
   ]
  },
  {
   "cell_type": "code",
   "execution_count": null,
   "metadata": {},
   "outputs": [],
   "source": [
    "meter_resp.view('meters').head()"
   ]
  },
  {
   "cell_type": "markdown",
   "metadata": {},
   "source": [
    "### Downloaded Data"
   ]
  },
  {
   "cell_type": "code",
   "execution_count": null,
   "metadata": {},
   "outputs": [],
   "source": [
    "meter_resp['meters'].head()"
   ]
  },
  {
   "cell_type": "markdown",
   "metadata": {},
   "source": [
    "# Temperature Data\n",
    "\n",
    "These views and dataframes identify and download temperature data for a set of sites. Here we demonstrate how to get temperature sensors associated with Thermostats, VAV boxes, and finally how to get *all* temperature sensor data.\n",
    "\n",
    "All data is downloaded for the span of a year downsampled to a 15-min interval."
   ]
  },
  {
   "cell_type": "markdown",
   "metadata": {},
   "source": [
    "## Thermostat Temperature Data"
   ]
  },
  {
   "cell_type": "code",
   "execution_count": null,
   "metadata": {},
   "outputs": [],
   "source": [
    "tstat_temp_query = \"\"\"SELECT ?temp_sensor ?tstat ?zone WHERE {\n",
    "    ?tstat  rdf:type  brick:Thermostat .\n",
    "    ?tstat  bf:hasPoint  ?temp_sensor .\n",
    "    ?temp_sensor rdf:type/rdfs:subClassOf* brick:Temperature_Sensor .\n",
    "    ?tstat  bf:controls/bf:feeds+ ?zone .\n",
    "    ?zone  rdf:type  brick:HVAC_Zone \n",
    "};\"\"\"\n",
    "\n",
    "tstat_temp_view = pymortar.View(\n",
    "    name = \"tstat_temp\",\n",
    "    definition = tstat_temp_query,\n",
    ")\n",
    "\n",
    "tstat_temp_data = pymortar.DataFrame(\n",
    "    name = \"tstat_temp\",\n",
    "    aggregation = pymortar.MEAN,\n",
    "    window = \"15m\",\n",
    "    timeseries = [\n",
    "        pymortar.Timeseries(\n",
    "            view = \"tstat_temp\",\n",
    "            dataVars = [\"?temp_sensor\"],\n",
    "        )\n",
    "    ]\n",
    ")\n",
    "\n",
    "time_range = pymortar.TimeParams(\n",
    "    start=\"2018-01-01T00:00:00Z\",\n",
    "    end=\"2019-01-01T00:00:00Z\",\n",
    ")"
   ]
  },
  {
   "cell_type": "code",
   "execution_count": null,
   "metadata": {},
   "outputs": [],
   "source": [
    "# find sites that have Thermostats with Temperature Sensors\n",
    "qualified_sites = client.qualify([tstat_temp_query])\n",
    "print(f'Downloading data for {len(qualified_sites.sites)} sites')\n",
    "\n",
    "# define the request\n",
    "request = pymortar.FetchRequest(\n",
    "    sites = qualified_sites.sites,\n",
    "    views = [tstat_temp_view],\n",
    "    dataFrames = [tstat_temp_data],\n",
    "    time = time_range,\n",
    ")\n",
    "\n",
    "# download the data\n",
    "tstat_temp_resp = client.fetch(request)\n",
    "print(f'Downloaded data: {tstat_temp_resp}')"
   ]
  },
  {
   "cell_type": "markdown",
   "metadata": {},
   "source": [
    "### Downloaded Metadata"
   ]
  },
  {
   "cell_type": "code",
   "execution_count": null,
   "metadata": {},
   "outputs": [],
   "source": [
    "tstat_temp_resp.view('tstat_temp').head()"
   ]
  },
  {
   "cell_type": "markdown",
   "metadata": {},
   "source": [
    "### Downloaded Data"
   ]
  },
  {
   "cell_type": "code",
   "execution_count": null,
   "metadata": {},
   "outputs": [],
   "source": [
    "tstat_temp_resp['tstat_temp'].head()"
   ]
  },
  {
   "cell_type": "markdown",
   "metadata": {},
   "source": [
    "## VAV Temperature Data\n",
    "\n",
    "You'll notice that the queries and general approach here are very similar to the Thermostat setting above. We have to change the type of the equipment in the base query in order to consider VAVs instead of Thermostats, and the relationship between the VAV and a Zone is different than the relationship between a Thermostat and a Zone.\n",
    "\n",
    "The queries here pull in some additional context: for each temperature sensor, we get the VAV it is associated with, ~~the upstream AHU~~ and the name of the zone that the VAV is conditioning.\n",
    "\n",
    "**Note:** this is potentially a lot of data so we are pre-emptively downsampling to a 1-hour interval. If you are using this data for any actual analysis you will probably want to reduce that to at least 15-minutes."
   ]
  },
  {
   "cell_type": "code",
   "execution_count": null,
   "metadata": {},
   "outputs": [],
   "source": [
    "vav_temp_query = \"\"\"SELECT ?temp_sensor ?vav ?zone WHERE {\n",
    "    ?vav  rdf:type/rdfs:subClassOf*  brick:VAV .\n",
    "    ?vav  bf:hasPoint  ?temp_sensor .\n",
    "    ?temp_sensor rdf:type/rdfs:subClassOf* brick:Temperature_Sensor .\n",
    "    ?vav  bf:feeds+ ?zone .\n",
    "    ?zone  rdf:type  brick:HVAC_Zone \n",
    "};\"\"\"\n",
    "\n",
    "vav_temp_view = pymortar.View(\n",
    "    name = \"vav_temp\",\n",
    "    definition = vav_temp_query,\n",
    ")\n",
    "\n",
    "vav_temp_data = pymortar.DataFrame(\n",
    "    name = \"vav_temp\",\n",
    "    aggregation = pymortar.MEAN,\n",
    "    window = \"1h\",\n",
    "    timeseries = [\n",
    "        pymortar.Timeseries(\n",
    "            view = \"vav_temp\",\n",
    "            dataVars = [\"?temp_sensor\"],\n",
    "        )\n",
    "    ]\n",
    ")\n",
    "\n",
    "time_range = pymortar.TimeParams(\n",
    "    start=\"2018-01-01T00:00:00Z\",\n",
    "    end=\"2019-01-01T00:00:00Z\",\n",
    ")"
   ]
  },
  {
   "cell_type": "code",
   "execution_count": null,
   "metadata": {},
   "outputs": [],
   "source": [
    "# find sites that have VAVs with Temperature Sensors\n",
    "qualified_sites = client.qualify([vav_temp_query])\n",
    "print(f'Downloading data for {len(qualified_sites.sites)} sites')\n",
    "\n",
    "# define the request\n",
    "request = pymortar.FetchRequest(\n",
    "    sites = qualified_sites.sites,\n",
    "    views = [vav_temp_view],\n",
    "    dataFrames = [vav_temp_data],\n",
    "    time = time_range,\n",
    ")\n",
    "\n",
    "# download the data\n",
    "vav_temp_resp = client.fetch(request)\n",
    "print(f'Downloaded data: {vav_temp_resp}')"
   ]
  },
  {
   "cell_type": "markdown",
   "metadata": {},
   "source": [
    "### Downloaded Metadata"
   ]
  },
  {
   "cell_type": "code",
   "execution_count": null,
   "metadata": {},
   "outputs": [],
   "source": [
    "vav_temp_resp.view('vav_temp').head()"
   ]
  },
  {
   "cell_type": "markdown",
   "metadata": {},
   "source": [
    "### Downloaded Data"
   ]
  },
  {
   "cell_type": "code",
   "execution_count": null,
   "metadata": {},
   "outputs": [],
   "source": [
    "vav_temp_resp['vav_temp'].head()"
   ]
  },
  {
   "cell_type": "markdown",
   "metadata": {},
   "source": []
  },
  {
   "cell_type": "code",
   "execution_count": null,
   "metadata": {},
   "outputs": [],
   "source": []
  }
 ],
 "metadata": {
  "kernelspec": {
   "display_name": "Python 3",
   "language": "python",
   "name": "python3"
  },
  "language_info": {
   "codemirror_mode": {
    "name": "ipython",
    "version": 3
   },
   "file_extension": ".py",
   "mimetype": "text/x-python",
   "name": "python",
   "nbconvert_exporter": "python",
   "pygments_lexer": "ipython3",
   "version": "3.8.5"
  }
 },
 "nbformat": 4,
 "nbformat_minor": 4
}
